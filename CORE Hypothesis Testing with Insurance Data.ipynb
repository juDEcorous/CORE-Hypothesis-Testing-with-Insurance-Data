{
 "cells": [
  {
   "cell_type": "markdown",
   "id": "b6a3e716",
   "metadata": {},
   "source": [
    "# Hypothesis Testing with Insurance Data (Core)\n",
    "\n",
    "For this assignment, we will be working with the US Health Insurance Dataset from Kaggle.\n",
    "\n",
    "We have been asked to use our hypothesis testing skills to answer the following questions:\n",
    "\n",
    "- Q1. Do smokers have higher insurance charges than non-smokers?\n",
    "- Q2. Are men more likely to smoke than women?\n",
    "- Q3. Do different regions have different charges, on average?\n",
    "\n",
    "\n",
    "\n",
    "For each question, make sure to:\n",
    "\n",
    "1. State your Null Hypothesis and Alternative Hypothesis\n",
    "2. Select the correct test according to the data type and number of samples\n",
    "3. Test the assumptions of your selected test.\n",
    "4. Execute the selected test, or the alternative test (if you do not meet the assumptions)\n",
    "5. Interpret your p-value and reject or fail to reject your null hypothesis \n",
    "6. Show a supporting visualization that helps display the result"
   ]
  },
  {
   "cell_type": "code",
   "execution_count": 1,
   "id": "469d6a4c",
   "metadata": {},
   "outputs": [],
   "source": [
    "import pandas as pd\n",
    "import numpy as np\n",
    "from scipy import stats\n",
    "import seaborn as sns\n",
    "import matplotlib.pyplot as plt\n",
    "from statsmodels.stats.multicomp import pairwise_tukeyhsd\n",
    "from scipy.stats import kruskal"
   ]
  },
  {
   "cell_type": "code",
   "execution_count": 2,
   "id": "37afaa90",
   "metadata": {},
   "outputs": [
    {
     "name": "stdout",
     "output_type": "stream",
     "text": [
      "<class 'pandas.core.frame.DataFrame'>\n",
      "RangeIndex: 1338 entries, 0 to 1337\n",
      "Data columns (total 7 columns):\n",
      " #   Column    Non-Null Count  Dtype  \n",
      "---  ------    --------------  -----  \n",
      " 0   age       1338 non-null   int64  \n",
      " 1   sex       1338 non-null   object \n",
      " 2   bmi       1338 non-null   float64\n",
      " 3   children  1338 non-null   int64  \n",
      " 4   smoker    1338 non-null   object \n",
      " 5   region    1338 non-null   object \n",
      " 6   charges   1338 non-null   float64\n",
      "dtypes: float64(2), int64(2), object(3)\n",
      "memory usage: 73.3+ KB\n"
     ]
    },
    {
     "data": {
      "text/html": [
       "<div>\n",
       "<style scoped>\n",
       "    .dataframe tbody tr th:only-of-type {\n",
       "        vertical-align: middle;\n",
       "    }\n",
       "\n",
       "    .dataframe tbody tr th {\n",
       "        vertical-align: top;\n",
       "    }\n",
       "\n",
       "    .dataframe thead th {\n",
       "        text-align: right;\n",
       "    }\n",
       "</style>\n",
       "<table border=\"1\" class=\"dataframe\">\n",
       "  <thead>\n",
       "    <tr style=\"text-align: right;\">\n",
       "      <th></th>\n",
       "      <th>age</th>\n",
       "      <th>sex</th>\n",
       "      <th>bmi</th>\n",
       "      <th>children</th>\n",
       "      <th>smoker</th>\n",
       "      <th>region</th>\n",
       "      <th>charges</th>\n",
       "    </tr>\n",
       "  </thead>\n",
       "  <tbody>\n",
       "    <tr>\n",
       "      <th>0</th>\n",
       "      <td>19</td>\n",
       "      <td>female</td>\n",
       "      <td>27.90</td>\n",
       "      <td>0</td>\n",
       "      <td>yes</td>\n",
       "      <td>southwest</td>\n",
       "      <td>16884.9240</td>\n",
       "    </tr>\n",
       "    <tr>\n",
       "      <th>1</th>\n",
       "      <td>18</td>\n",
       "      <td>male</td>\n",
       "      <td>33.77</td>\n",
       "      <td>1</td>\n",
       "      <td>no</td>\n",
       "      <td>southeast</td>\n",
       "      <td>1725.5523</td>\n",
       "    </tr>\n",
       "    <tr>\n",
       "      <th>2</th>\n",
       "      <td>28</td>\n",
       "      <td>male</td>\n",
       "      <td>33.00</td>\n",
       "      <td>3</td>\n",
       "      <td>no</td>\n",
       "      <td>southeast</td>\n",
       "      <td>4449.4620</td>\n",
       "    </tr>\n",
       "  </tbody>\n",
       "</table>\n",
       "</div>"
      ],
      "text/plain": [
       "   age     sex    bmi  children smoker     region     charges\n",
       "0   19  female  27.90         0    yes  southwest  16884.9240\n",
       "1   18    male  33.77         1     no  southeast   1725.5523\n",
       "2   28    male  33.00         3     no  southeast   4449.4620"
      ]
     },
     "execution_count": 2,
     "metadata": {},
     "output_type": "execute_result"
    }
   ],
   "source": [
    "df = pd.read_csv('insurance - insurance.csv')\n",
    "df.info()\n",
    "df.head(3)"
   ]
  },
  {
   "cell_type": "markdown",
   "id": "7bb9744b",
   "metadata": {},
   "source": [
    "# Question # 1:\n",
    "Do smokers have higher insurance charges than non-smokers?\n",
    "\n",
    "## Hypothesis\n",
    "\n",
    "- <b>H0 (Null Hypothesis)</b> : Smokers and Non-smoker doesn't have much difference in insurance charges. <br>\n",
    "- <b>HA (Alternative Hypothesis)</b> : There is a significant difference between the insurance charges of Smokers and Non-smokers.\n",
    "\n",
    "## Appropriate test to perform\n",
    "\n",
    "- 2 groups/samples: Smokers & Non-smokers\n",
    "- Numerical Type: Insurance Charges\n",
    "- <b>We are going to perform 2 sample T-Test or Independent T-Test \n",
    "    \n",
    "## Assumptions \n",
    "    \n",
    "- No significant outliers\n",
    "- Normality\n",
    "- Equal Variance\n",
    "   "
   ]
  },
  {
   "cell_type": "code",
   "execution_count": 3,
   "id": "8ea1b94e",
   "metadata": {},
   "outputs": [],
   "source": [
    "# using df method to check if smokers and non smokers are distributed\n",
    "smokers_df = df.loc[df['smoker'] == 'yes', ['charges', 'smoker']]\n",
    "non_smokers_df = df.loc[df['smoker'] == 'no', ['charges', 'smoker']]"
   ]
  },
  {
   "cell_type": "code",
   "execution_count": 4,
   "id": "dd1cf8c4",
   "metadata": {},
   "outputs": [
    {
     "data": {
      "text/html": [
       "<div>\n",
       "<style scoped>\n",
       "    .dataframe tbody tr th:only-of-type {\n",
       "        vertical-align: middle;\n",
       "    }\n",
       "\n",
       "    .dataframe tbody tr th {\n",
       "        vertical-align: top;\n",
       "    }\n",
       "\n",
       "    .dataframe thead th {\n",
       "        text-align: right;\n",
       "    }\n",
       "</style>\n",
       "<table border=\"1\" class=\"dataframe\">\n",
       "  <thead>\n",
       "    <tr style=\"text-align: right;\">\n",
       "      <th></th>\n",
       "      <th>charges</th>\n",
       "      <th>smoker</th>\n",
       "    </tr>\n",
       "  </thead>\n",
       "  <tbody>\n",
       "    <tr>\n",
       "      <th>331</th>\n",
       "      <td>24393.62240</td>\n",
       "      <td>yes</td>\n",
       "    </tr>\n",
       "    <tr>\n",
       "      <th>739</th>\n",
       "      <td>44585.45587</td>\n",
       "      <td>yes</td>\n",
       "    </tr>\n",
       "    <tr>\n",
       "      <th>1152</th>\n",
       "      <td>40941.28540</td>\n",
       "      <td>yes</td>\n",
       "    </tr>\n",
       "  </tbody>\n",
       "</table>\n",
       "</div>"
      ],
      "text/plain": [
       "          charges smoker\n",
       "331   24393.62240    yes\n",
       "739   44585.45587    yes\n",
       "1152  40941.28540    yes"
      ]
     },
     "execution_count": 4,
     "metadata": {},
     "output_type": "execute_result"
    }
   ],
   "source": [
    "# checking if all smokers are 'yes'\n",
    "smokers_df.sample(3)"
   ]
  },
  {
   "cell_type": "code",
   "execution_count": 5,
   "id": "7fc5efe6",
   "metadata": {},
   "outputs": [
    {
     "data": {
      "text/html": [
       "<div>\n",
       "<style scoped>\n",
       "    .dataframe tbody tr th:only-of-type {\n",
       "        vertical-align: middle;\n",
       "    }\n",
       "\n",
       "    .dataframe tbody tr th {\n",
       "        vertical-align: top;\n",
       "    }\n",
       "\n",
       "    .dataframe thead th {\n",
       "        text-align: right;\n",
       "    }\n",
       "</style>\n",
       "<table border=\"1\" class=\"dataframe\">\n",
       "  <thead>\n",
       "    <tr style=\"text-align: right;\">\n",
       "      <th></th>\n",
       "      <th>charges</th>\n",
       "      <th>smoker</th>\n",
       "    </tr>\n",
       "  </thead>\n",
       "  <tbody>\n",
       "    <tr>\n",
       "      <th>796</th>\n",
       "      <td>4266.16580</td>\n",
       "      <td>no</td>\n",
       "    </tr>\n",
       "    <tr>\n",
       "      <th>1121</th>\n",
       "      <td>8347.16430</td>\n",
       "      <td>no</td>\n",
       "    </tr>\n",
       "    <tr>\n",
       "      <th>1324</th>\n",
       "      <td>4239.89265</td>\n",
       "      <td>no</td>\n",
       "    </tr>\n",
       "  </tbody>\n",
       "</table>\n",
       "</div>"
      ],
      "text/plain": [
       "         charges smoker\n",
       "796   4266.16580     no\n",
       "1121  8347.16430     no\n",
       "1324  4239.89265     no"
      ]
     },
     "execution_count": 5,
     "metadata": {},
     "output_type": "execute_result"
    }
   ],
   "source": [
    "# checking if all smokers are 'no'\n",
    "non_smokers_df.sample(3)"
   ]
  },
  {
   "cell_type": "markdown",
   "id": "0f3b3bb2",
   "metadata": {},
   "source": [
    "- Initial graph shows that we don't have a balanced target.\n",
    "### Dealing with Outliers"
   ]
  },
  {
   "cell_type": "code",
   "execution_count": 6,
   "id": "3e5f883e",
   "metadata": {},
   "outputs": [
    {
     "name": "stdout",
     "output_type": "stream",
     "text": [
      "We have a total number of 0 outliers under smokers.\n",
      "We have a total number of 0 outliers under non-smokers.\n"
     ]
    }
   ],
   "source": [
    "smoker = smokers_df['charges']\n",
    "non_smoker = non_smokers_df['charges']\n",
    "\n",
    "smoker_ouliers = np.abs(stats.zscore(smoker)) > 3\n",
    "non_smoker_ouliers = np.abs(stats.zscore(smoker)) > 3\n",
    "\n",
    "print(f'We have a total number of {smoker_ouliers.sum()} outliers under smokers.')\n",
    "print(f'We have a total number of {non_smoker_ouliers.sum()} outliers under non-smokers.')"
   ]
  },
  {
   "cell_type": "markdown",
   "id": "08bc0338",
   "metadata": {},
   "source": [
    "- Seems like we don't have any outliers in this dataset.\n",
    "\n",
    "### Normality Testing"
   ]
  },
  {
   "cell_type": "code",
   "execution_count": 7,
   "id": "6299d656",
   "metadata": {},
   "outputs": [
    {
     "name": "stdout",
     "output_type": "stream",
     "text": [
      "Smoker group: 5.564930630036463e-14\n",
      "    Pvalue < .05? True\n",
      "Non-smoker group: 1.9193129759002216e-69\n",
      "    Pvalue < .05? True\n"
     ]
    }
   ],
   "source": [
    "smoker_result = stats.normaltest(smoker)\n",
    "non_smoker_result = stats.normaltest(non_smoker)\n",
    "\n",
    "print(f'Smoker group: {smoker_result.pvalue}')\n",
    "print(f'    Pvalue < .05? {smoker_result.pvalue < .05}')\n",
    "print(f'Non-smoker group: {non_smoker_result.pvalue}')\n",
    "print(f'    Pvalue < .05? {non_smoker_result.pvalue < .05}')"
   ]
  },
  {
   "cell_type": "markdown",
   "id": "c40c4734",
   "metadata": {},
   "source": [
    "- Both Smoker and Non-smoker have less than 0.05 p-value. This means that the target is NOT normally distributed as we can see in the graph. \n",
    "\n",
    "- Our group sizes are large enough, we can safely ignore the normality assumption.\n",
    "\n",
    "### Variance Testing"
   ]
  },
  {
   "cell_type": "code",
   "execution_count": 8,
   "id": "5960af40",
   "metadata": {},
   "outputs": [
    {
     "name": "stdout",
     "output_type": "stream",
     "text": [
      "1.5593284881803726e-66\n",
      "The groups do NOT have equal variance.\n"
     ]
    }
   ],
   "source": [
    "result = stats.levene(smoker, non_smoker)\n",
    "print(result.pvalue)\n",
    "if result.pvalue < .05:\n",
    "    print(f\"The groups do NOT have equal variance.\")\n",
    "else:\n",
    "    print(f\"The groups DO have equal variance.\")"
   ]
  },
  {
   "cell_type": "markdown",
   "id": "435a39fc",
   "metadata": {},
   "source": [
    "- We FAILED to meet the assumption of equal variance. We are running the Welch's T-Test, which is designed to account for unequal variance."
   ]
  },
  {
   "cell_type": "code",
   "execution_count": 9,
   "id": "e1a1a85f",
   "metadata": {},
   "outputs": [
    {
     "name": "stdout",
     "output_type": "stream",
     "text": [
      "Ttest_indResult(statistic=32.751887766341824, pvalue=5.88946444671698e-103)\n",
      "    Pvalue < .05? True\n"
     ]
    }
   ],
   "source": [
    "result = stats.ttest_ind(smoker, non_smoker, equal_var = False)\n",
    "print(result)\n",
    "print(f'    Pvalue < .05? {result.pvalue < .05}')"
   ]
  },
  {
   "cell_type": "markdown",
   "id": "42aa76c0",
   "metadata": {},
   "source": [
    "- Our Welch's T-Test returned < 0.05. We REJECT the null hypothesis and support the Alternative Hypothesis that. **There is a significant difference between the insurance charges of Smokers and Non-smokers.**\n",
    "\n",
    "## Final Visuaization"
   ]
  },
  {
   "cell_type": "code",
   "execution_count": 10,
   "id": "17fc2e37",
   "metadata": {},
   "outputs": [
    {
     "data": {
      "image/png": "[encoded data removed]",
      "text/plain": [
       "<Figure size 500x300 with 1 Axes>"
      ]
     },
     "metadata": {},
     "output_type": "display_data"
    }
   ],
   "source": [
    "plt.figure(figsize = (5, 3))\n",
    "ax = sns.countplot(df, x = 'smoker', palette = 'pastel')"
   ]
  },
  {
   "cell_type": "markdown",
   "id": "f8655253",
   "metadata": {},
   "source": [
    "# Question 2:\n",
    "Are men more likely to smoke than women?\n",
    "\n",
    "## Hypothesis\n",
    "\n",
    "- <b>H0 (Null Hypothesis)</b> : There's is not much difference between men and women when when it comes to likeliness of smoking. <br>\n",
    "- <b>HA (Alternative Hypothesis)</b> : There's is significant difference between men and women when when it comes to likeliness of smoking.\n",
    "\n",
    "## Appropriate test to perform\n",
    "\n",
    "- 2 sample: Men & Women\n",
    "- Categorical Type\n",
    "- Chi-square\n",
    "    \n",
    "## Assumptions \n",
    "    \n",
    "- There are two categorical variables\n",
    "- The outcomes are independent."
   ]
  },
  {
   "cell_type": "markdown",
   "id": "43f082c7",
   "metadata": {},
   "source": [
    "### Crosstab"
   ]
  },
  {
   "cell_type": "code",
   "execution_count": 11,
   "id": "87b44400",
   "metadata": {},
   "outputs": [
    {
     "data": {
      "text/html": [
       "<div>\n",
       "<style scoped>\n",
       "    .dataframe tbody tr th:only-of-type {\n",
       "        vertical-align: middle;\n",
       "    }\n",
       "\n",
       "    .dataframe tbody tr th {\n",
       "        vertical-align: top;\n",
       "    }\n",
       "\n",
       "    .dataframe thead th {\n",
       "        text-align: right;\n",
       "    }\n",
       "</style>\n",
       "<table border=\"1\" class=\"dataframe\">\n",
       "  <thead>\n",
       "    <tr style=\"text-align: right;\">\n",
       "      <th>smoker</th>\n",
       "      <th>no</th>\n",
       "      <th>yes</th>\n",
       "    </tr>\n",
       "    <tr>\n",
       "      <th>sex</th>\n",
       "      <th></th>\n",
       "      <th></th>\n",
       "    </tr>\n",
       "  </thead>\n",
       "  <tbody>\n",
       "    <tr>\n",
       "      <th>female</th>\n",
       "      <td>547</td>\n",
       "      <td>115</td>\n",
       "    </tr>\n",
       "    <tr>\n",
       "      <th>male</th>\n",
       "      <td>517</td>\n",
       "      <td>159</td>\n",
       "    </tr>\n",
       "  </tbody>\n",
       "</table>\n",
       "</div>"
      ],
      "text/plain": [
       "smoker   no  yes\n",
       "sex             \n",
       "female  547  115\n",
       "male    517  159"
      ]
     },
     "execution_count": 11,
     "metadata": {},
     "output_type": "execute_result"
    }
   ],
   "source": [
    "smoker = pd.crosstab(df['sex'], df['smoker'])\n",
    "smoker"
   ]
  },
  {
   "cell_type": "code",
   "execution_count": 12,
   "id": "656c653a",
   "metadata": {},
   "outputs": [
    {
     "name": "stdout",
     "output_type": "stream",
     "text": [
      "0.006548143503580696\n"
     ]
    }
   ],
   "source": [
    "result = stats.chi2_contingency(smoker)\n",
    "chi2, p, deg_free, expected_vals = result\n",
    "print(p)"
   ]
  },
  {
   "cell_type": "markdown",
   "id": "c3cd06c7",
   "metadata": {},
   "source": [
    "- The result return < 0.05. This means that we REJECT the null hypothesis and support that **There's is significant difference between men and women when when it comes to likeliness of smoking.**\n",
    "\n",
    "## Final Visualization"
   ]
  },
  {
   "cell_type": "code",
   "execution_count": 13,
   "id": "3b87a145",
   "metadata": {},
   "outputs": [
    {
     "data": {
      "image/png": "[encoded data removed]",
      "text/plain": [
       "<Figure size 500x300 with 1 Axes>"
      ]
     },
     "metadata": {},
     "output_type": "display_data"
    }
   ],
   "source": [
    "plt.figure(figsize = (5, 3))\n",
    "ax = sns.countplot(df, y = 'sex', hue = 'smoker', palette = 'husl')"
   ]
  },
  {
   "cell_type": "markdown",
   "id": "6116cc9b",
   "metadata": {},
   "source": [
    "# Question 3:\n",
    "Do different regions have different charges, on average?\n",
    "\n",
    "## Hypothesis\n",
    "\n",
    "- <b>H0 (Null Hypothesis)</b> : Different Regions doesn't have much difference on average charges. <br>\n",
    "- <b>HA (Alternative Hypothesis)</b> : There is a significant difference on average charges for every region.\n"
   ]
  },
  {
   "cell_type": "code",
   "execution_count": 14,
   "id": "c83232f3",
   "metadata": {},
   "outputs": [
    {
     "data": {
      "text/plain": [
       "array(['southwest', 'southeast', 'northwest', 'northeast'], dtype=object)"
      ]
     },
     "execution_count": 14,
     "metadata": {},
     "output_type": "execute_result"
    }
   ],
   "source": [
    "# checking the regions as per question 3\n",
    "regions = df['region'].unique()\n",
    "regions"
   ]
  },
  {
   "cell_type": "markdown",
   "id": "54b8b12a",
   "metadata": {},
   "source": [
    "## Appropriate test to perform\n",
    "\n",
    "- Multi samples: southeast, southwest, northwest, northeast\n",
    "- Numerical Type: charges\n",
    "- ANOVA and/or Tukey\n",
    "    \n",
    "## Assumptions \n",
    "    \n",
    "- No significant outliers\n",
    "- Equal variance\n",
    "- Normality\n",
    "    \n",
    "### Initial Visualization"
   ]
  },
  {
   "cell_type": "code",
   "execution_count": 15,
   "id": "a89fcdb4",
   "metadata": {},
   "outputs": [
    {
     "data": {
      "image/png": "[encoded data removed]",
      "text/plain": [
       "<Figure size 500x300 with 1 Axes>"
      ]
     },
     "metadata": {},
     "output_type": "display_data"
    }
   ],
   "source": [
    "plt.figure(figsize = (5, 3))\n",
    "ax = sns.countplot(df, y = 'region', palette = 'husl')"
   ]
  },
  {
   "cell_type": "markdown",
   "id": "69309742",
   "metadata": {},
   "source": [
    "- Our graph shows that southwest, northwest and northeast almost have the same distribution while southeast is a little higher.\n",
    "### Dealing with Outliers"
   ]
  },
  {
   "cell_type": "code",
   "execution_count": 16,
   "id": "af264f5c",
   "metadata": {},
   "outputs": [
    {
     "data": {
      "text/plain": [
       "dict_keys(['southwest', 'southeast', 'northwest', 'northeast'])"
      ]
     },
     "execution_count": 16,
     "metadata": {},
     "output_type": "execute_result"
    }
   ],
   "source": [
    "groups = {}\n",
    "\n",
    "for i in df['region'].unique():\n",
    "    temp = df.loc[df['region'] == i, 'charges']\n",
    "    groups[i] = temp\n",
    "\n",
    "groups.keys()"
   ]
  },
  {
   "cell_type": "code",
   "execution_count": 17,
   "id": "68a620ca",
   "metadata": {},
   "outputs": [
    {
     "name": "stdout",
     "output_type": "stream",
     "text": [
      "There were 8 outliers in the southwest group.\n",
      "There were 2 outliers in the southeast group.\n",
      "There were 7 outliers in the northwest group.\n",
      "There were 4 outliers in the northeast group.\n"
     ]
    }
   ],
   "source": [
    "for region, data in groups.items():\n",
    "\n",
    "    outliers = np.abs(stats.zscore(data)) > 3\n",
    "    print(f\"There were {outliers.sum()} outliers in the {region} group.\")\n",
    "\n",
    "    data = data.loc[~outliers]\n",
    "    groups[region] = data"
   ]
  },
  {
   "cell_type": "markdown",
   "id": "ed4381e0",
   "metadata": {},
   "source": [
    "### Normality Testing"
   ]
  },
  {
   "cell_type": "code",
   "execution_count": 18,
   "id": "b79160e0",
   "metadata": {},
   "outputs": [
    {
     "data": {
      "text/html": [
       "<div>\n",
       "<style scoped>\n",
       "    .dataframe tbody tr th:only-of-type {\n",
       "        vertical-align: middle;\n",
       "    }\n",
       "\n",
       "    .dataframe tbody tr th {\n",
       "        vertical-align: top;\n",
       "    }\n",
       "\n",
       "    .dataframe thead th {\n",
       "        text-align: right;\n",
       "    }\n",
       "</style>\n",
       "<table border=\"1\" class=\"dataframe\">\n",
       "  <thead>\n",
       "    <tr style=\"text-align: right;\">\n",
       "      <th></th>\n",
       "      <th>n</th>\n",
       "      <th>p</th>\n",
       "      <th>test stat</th>\n",
       "    </tr>\n",
       "  </thead>\n",
       "  <tbody>\n",
       "    <tr>\n",
       "      <th>southwest</th>\n",
       "      <td>317.0</td>\n",
       "      <td>7.728611e-22</td>\n",
       "      <td>97.223886</td>\n",
       "    </tr>\n",
       "    <tr>\n",
       "      <th>southeast</th>\n",
       "      <td>362.0</td>\n",
       "      <td>1.936990e-13</td>\n",
       "      <td>58.544942</td>\n",
       "    </tr>\n",
       "    <tr>\n",
       "      <th>northwest</th>\n",
       "      <td>318.0</td>\n",
       "      <td>2.940543e-19</td>\n",
       "      <td>85.341045</td>\n",
       "    </tr>\n",
       "    <tr>\n",
       "      <th>northeast</th>\n",
       "      <td>320.0</td>\n",
       "      <td>3.557877e-17</td>\n",
       "      <td>75.749565</td>\n",
       "    </tr>\n",
       "  </tbody>\n",
       "</table>\n",
       "</div>"
      ],
      "text/plain": [
       "               n             p  test stat\n",
       "southwest  317.0  7.728611e-22  97.223886\n",
       "southeast  362.0  1.936990e-13  58.544942\n",
       "northwest  318.0  2.940543e-19  85.341045\n",
       "northeast  320.0  3.557877e-17  75.749565"
      ]
     },
     "execution_count": 18,
     "metadata": {},
     "output_type": "execute_result"
    }
   ],
   "source": [
    "norm_results = {}\n",
    "for i, data in groups.items():\n",
    "    stat, p = stats.normaltest(data)\n",
    "    # save the p val, test statistic, and the size of the group\n",
    "    norm_results[i] = {'n': len(data), \n",
    "                       'p': p, \n",
    "                       'test stat': stat}\n",
    "norm_results_df = pd.DataFrame(norm_results).T\n",
    "norm_results_df"
   ]
  },
  {
   "cell_type": "code",
   "execution_count": 19,
   "id": "0db6f5bc",
   "metadata": {},
   "outputs": [
    {
     "data": {
      "text/html": [
       "<div>\n",
       "<style scoped>\n",
       "    .dataframe tbody tr th:only-of-type {\n",
       "        vertical-align: middle;\n",
       "    }\n",
       "\n",
       "    .dataframe tbody tr th {\n",
       "        vertical-align: top;\n",
       "    }\n",
       "\n",
       "    .dataframe thead th {\n",
       "        text-align: right;\n",
       "    }\n",
       "</style>\n",
       "<table border=\"1\" class=\"dataframe\">\n",
       "  <thead>\n",
       "    <tr style=\"text-align: right;\">\n",
       "      <th></th>\n",
       "      <th>n</th>\n",
       "      <th>p</th>\n",
       "      <th>test stat</th>\n",
       "      <th>sig</th>\n",
       "    </tr>\n",
       "  </thead>\n",
       "  <tbody>\n",
       "    <tr>\n",
       "      <th>southwest</th>\n",
       "      <td>317.0</td>\n",
       "      <td>7.728611e-22</td>\n",
       "      <td>97.223886</td>\n",
       "      <td>True</td>\n",
       "    </tr>\n",
       "    <tr>\n",
       "      <th>southeast</th>\n",
       "      <td>362.0</td>\n",
       "      <td>1.936990e-13</td>\n",
       "      <td>58.544942</td>\n",
       "      <td>True</td>\n",
       "    </tr>\n",
       "    <tr>\n",
       "      <th>northwest</th>\n",
       "      <td>318.0</td>\n",
       "      <td>2.940543e-19</td>\n",
       "      <td>85.341045</td>\n",
       "      <td>True</td>\n",
       "    </tr>\n",
       "    <tr>\n",
       "      <th>northeast</th>\n",
       "      <td>320.0</td>\n",
       "      <td>3.557877e-17</td>\n",
       "      <td>75.749565</td>\n",
       "      <td>True</td>\n",
       "    </tr>\n",
       "  </tbody>\n",
       "</table>\n",
       "</div>"
      ],
      "text/plain": [
       "               n             p  test stat   sig\n",
       "southwest  317.0  7.728611e-22  97.223886  True\n",
       "southeast  362.0  1.936990e-13  58.544942  True\n",
       "northwest  318.0  2.940543e-19  85.341045  True\n",
       "northeast  320.0  3.557877e-17  75.749565  True"
      ]
     },
     "execution_count": 19,
     "metadata": {},
     "output_type": "execute_result"
    }
   ],
   "source": [
    "# checking sig with pandas \n",
    "norm_results_df['sig'] = norm_results_df['p'] < .05 \n",
    "norm_results_df"
   ]
  },
  {
   "cell_type": "markdown",
   "id": "f717f790",
   "metadata": {},
   "source": [
    "- Our p-values turns out to be lower than 0.05. Our target is not normally distributed.\n",
    "\n",
    "- Our group sizes are large enough, we can safely ignore the normality assumption.\n",
    "### Variance Testing"
   ]
  },
  {
   "cell_type": "code",
   "execution_count": 20,
   "id": "45fe5719",
   "metadata": {},
   "outputs": [
    {
     "name": "stdout",
     "output_type": "stream",
     "text": [
      "LeveneResult(statistic=9.518349004554441, pvalue=3.2035503711783993e-06)\n",
      "The groups do NOT have equal variance.\n"
     ]
    }
   ],
   "source": [
    "result = stats.levene(*groups.values())\n",
    "print(result)\n",
    "if result.pvalue < .05:\n",
    "    print(f\"The groups do NOT have equal variance.\")\n",
    "else:\n",
    "    print(f\"The groups DO have equal variance.\")"
   ]
  },
  {
   "cell_type": "markdown",
   "id": "f139d3ce",
   "metadata": {},
   "source": [
    "- Our Variance testing states that we do not have an equal variance in our target.\n",
    "- Since we have failed the Levene test we are going to run the non-parametric equivalent test, which is the Kruskal Wallis.\n",
    "## Kruskal Wallis"
   ]
  },
  {
   "cell_type": "code",
   "execution_count": 33,
   "id": "967102a0",
   "metadata": {},
   "outputs": [
    {
     "name": "stdout",
     "output_type": "stream",
     "text": [
      "KruskalResult(statistic=6.914045702545643, pvalue=0.07468847911322242)\n"
     ]
    }
   ],
   "source": [
    "kruskal_score = stats.kruskal(*groups.values())\n",
    "print(kruskal_score)"
   ]
  },
  {
   "cell_type": "markdown",
   "id": "1e767ce5",
   "metadata": {},
   "source": [
    "- Our p-value returned greater than 0.05. So we FAILED TO REJECT the Null Hypothesis that states that *Different Regions doesn't have much difference on average charges.*\n",
    "\n",
    "## Final Visualization"
   ]
  },
  {
   "cell_type": "code",
   "execution_count": 32,
   "id": "5de4f999",
   "metadata": {},
   "outputs": [
    {
     "data": {
      "image/png": "[encoded data removed]",
      "text/plain": [
       "<Figure size 500x300 with 1 Axes>"
      ]
     },
     "metadata": {},
     "output_type": "display_data"
    }
   ],
   "source": [
    "plt.figure(figsize = (5, 3))\n",
    "ax = sns.barplot(df, y = 'region', x = 'charges', palette = 'husl')"
   ]
  }
 ],
 "metadata": {
  "kernelspec": {
   "display_name": "Python (dojo-env)",
   "language": "python",
   "name": "dojo-env"
  },
  "language_info": {
   "codemirror_mode": {
    "name": "ipython",
    "version": 3
   },
   "file_extension": ".py",
   "mimetype": "text/x-python",
   "name": "python",
   "nbconvert_exporter": "python",
   "pygments_lexer": "ipython3",
   "version": "3.9.15"
  },
  "toc": {
   "base_numbering": 1,
   "nav_menu": {},
   "number_sections": false,
   "sideBar": true,
   "skip_h1_title": false,
   "title_cell": "Table of Contents",
   "title_sidebar": "Contents",
   "toc_cell": false,
   "toc_position": {
    "height": "calc(100% - 180px)",
    "left": "10px",
    "top": "150px",
    "width": "349.078px"
   },
   "toc_section_display": true,
   "toc_window_display": true
  }
 },
 "nbformat": 4,
 "nbformat_minor": 5
}
