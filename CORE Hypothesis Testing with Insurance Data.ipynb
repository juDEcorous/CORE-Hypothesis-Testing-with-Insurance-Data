{
 "cells": [
  {
   "cell_type": "markdown",
   "id": "b6a3e716",
   "metadata": {},
   "source": [
    "# Hypothesis Testing with Insurance Data (Core)\n",
    "\n",
    "For this assignment, we will be working with the US Health Insurance Dataset from Kaggle.\n",
    "\n",
    "We have been asked to use our hypothesis testing skills to answer the following questions:\n",
    "\n",
    "- Q1. Do smokers have higher insurance charges than non-smokers?\n",
    "- Q2. Are men more likely to smoke than women?\n",
    "- Q3. Do different regions have different charges, on average?\n",
    "\n",
    "\n",
    "\n",
    "For each question, make sure to:\n",
    "\n",
    "1. State your Null Hypothesis and Alternative Hypothesis\n",
    "2. Select the correct test according to the data type and number of samples\n",
    "3. Test the assumptions of your selected test.\n",
    "4. Execute the selected test, or the alternative test (if you do not meet the assumptions)\n",
    "5. Interpret your p-value and reject or fail to reject your null hypothesis \n",
    "6. Show a supporting visualization that helps display the result"
   ]
  },
  {
   "cell_type": "code",
   "execution_count": 1,
   "id": "469d6a4c",
   "metadata": {},
   "outputs": [],
   "source": [
    "import pandas as pd\n",
    "import numpy as np\n",
    "from scipy import stats\n",
    "import seaborn as sns\n",
    "import matplotlib.pyplot as plt\n",
    "from statsmodels.stats.multicomp import pairwise_tukeyhsd"
   ]
  },
  {
   "cell_type": "code",
   "execution_count": 2,
   "id": "37afaa90",
   "metadata": {},
   "outputs": [
    {
     "name": "stdout",
     "output_type": "stream",
     "text": [
      "<class 'pandas.core.frame.DataFrame'>\n",
      "RangeIndex: 1338 entries, 0 to 1337\n",
      "Data columns (total 7 columns):\n",
      " #   Column    Non-Null Count  Dtype  \n",
      "---  ------    --------------  -----  \n",
      " 0   age       1338 non-null   int64  \n",
      " 1   sex       1338 non-null   object \n",
      " 2   bmi       1338 non-null   float64\n",
      " 3   children  1338 non-null   int64  \n",
      " 4   smoker    1338 non-null   object \n",
      " 5   region    1338 non-null   object \n",
      " 6   charges   1338 non-null   float64\n",
      "dtypes: float64(2), int64(2), object(3)\n",
      "memory usage: 73.3+ KB\n"
     ]
    },
    {
     "data": {
      "text/html": [
       "<div>\n",
       "<style scoped>\n",
       "    .dataframe tbody tr th:only-of-type {\n",
       "        vertical-align: middle;\n",
       "    }\n",
       "\n",
       "    .dataframe tbody tr th {\n",
       "        vertical-align: top;\n",
       "    }\n",
       "\n",
       "    .dataframe thead th {\n",
       "        text-align: right;\n",
       "    }\n",
       "</style>\n",
       "<table border=\"1\" class=\"dataframe\">\n",
       "  <thead>\n",
       "    <tr style=\"text-align: right;\">\n",
       "      <th></th>\n",
       "      <th>age</th>\n",
       "      <th>sex</th>\n",
       "      <th>bmi</th>\n",
       "      <th>children</th>\n",
       "      <th>smoker</th>\n",
       "      <th>region</th>\n",
       "      <th>charges</th>\n",
       "    </tr>\n",
       "  </thead>\n",
       "  <tbody>\n",
       "    <tr>\n",
       "      <th>0</th>\n",
       "      <td>19</td>\n",
       "      <td>female</td>\n",
       "      <td>27.90</td>\n",
       "      <td>0</td>\n",
       "      <td>yes</td>\n",
       "      <td>southwest</td>\n",
       "      <td>16884.9240</td>\n",
       "    </tr>\n",
       "    <tr>\n",
       "      <th>1</th>\n",
       "      <td>18</td>\n",
       "      <td>male</td>\n",
       "      <td>33.77</td>\n",
       "      <td>1</td>\n",
       "      <td>no</td>\n",
       "      <td>southeast</td>\n",
       "      <td>1725.5523</td>\n",
       "    </tr>\n",
       "    <tr>\n",
       "      <th>2</th>\n",
       "      <td>28</td>\n",
       "      <td>male</td>\n",
       "      <td>33.00</td>\n",
       "      <td>3</td>\n",
       "      <td>no</td>\n",
       "      <td>southeast</td>\n",
       "      <td>4449.4620</td>\n",
       "    </tr>\n",
       "  </tbody>\n",
       "</table>\n",
       "</div>"
      ],
      "text/plain": [
       "   age     sex    bmi  children smoker     region     charges\n",
       "0   19  female  27.90         0    yes  southwest  16884.9240\n",
       "1   18    male  33.77         1     no  southeast   1725.5523\n",
       "2   28    male  33.00         3     no  southeast   4449.4620"
      ]
     },
     "execution_count": 2,
     "metadata": {},
     "output_type": "execute_result"
    }
   ],
   "source": [
    "df = pd.read_csv('insurance - insurance.csv')\n",
    "df.info()\n",
    "df.head(3)"
   ]
  },
  {
   "cell_type": "code",
   "execution_count": null,
   "id": "5f03922b",
   "metadata": {},
   "outputs": [],
   "source": []
  },
  {
   "cell_type": "markdown",
   "id": "7bb9744b",
   "metadata": {},
   "source": [
    "# Question # 1:\n",
    "Do smokers have higher insurance charges than non-smokers?\n",
    "\n",
    "## Hypothesis\n",
    "\n",
    "- <b>H0 (Null Hypothesis)</b> : Smokers and Non-smoker doesn't have much difference in insurance charges. <br>\n",
    "- <b>HA (Alternative Hypothesis)</b> : There is a significant difference between the insurance charges of Smokers and Non-smokers.\n",
    "\n",
    "## Appropriate test to perform\n",
    "\n",
    "- 2 groups/samples: Smokers & Non-smokers\n",
    "- Numerical Type: Insurance Charges\n",
    "- <b>We are going to perform 2 sample T-Test or Independent T-Test \n",
    "    \n",
    "## Assumptions \n",
    "    \n",
    "- No significant outliers\n",
    "- Normality\n",
    "- Equal Variance\n",
    "    \n",
    "### Initial Visualization"
   ]
  },
  {
   "cell_type": "code",
   "execution_count": 3,
   "id": "8ea1b94e",
   "metadata": {},
   "outputs": [],
   "source": [
    "# using df method to check if smokers and non smokers are distributed\n",
    "smokers_df = df.loc[df['smoker'] == 'yes', ['charges', 'smoker']]\n",
    "non_smokers_df = df.loc[df['smoker'] == 'no', ['charges', 'smoker']]"
   ]
  },
  {
   "cell_type": "code",
   "execution_count": 4,
   "id": "dd1cf8c4",
   "metadata": {},
   "outputs": [
    {
     "data": {
      "text/html": [
       "<div>\n",
       "<style scoped>\n",
       "    .dataframe tbody tr th:only-of-type {\n",
       "        vertical-align: middle;\n",
       "    }\n",
       "\n",
       "    .dataframe tbody tr th {\n",
       "        vertical-align: top;\n",
       "    }\n",
       "\n",
       "    .dataframe thead th {\n",
       "        text-align: right;\n",
       "    }\n",
       "</style>\n",
       "<table border=\"1\" class=\"dataframe\">\n",
       "  <thead>\n",
       "    <tr style=\"text-align: right;\">\n",
       "      <th></th>\n",
       "      <th>charges</th>\n",
       "      <th>smoker</th>\n",
       "    </tr>\n",
       "  </thead>\n",
       "  <tbody>\n",
       "    <tr>\n",
       "      <th>954</th>\n",
       "      <td>20009.63365</td>\n",
       "      <td>yes</td>\n",
       "    </tr>\n",
       "    <tr>\n",
       "      <th>444</th>\n",
       "      <td>26109.32905</td>\n",
       "      <td>yes</td>\n",
       "    </tr>\n",
       "    <tr>\n",
       "      <th>494</th>\n",
       "      <td>17942.10600</td>\n",
       "      <td>yes</td>\n",
       "    </tr>\n",
       "  </tbody>\n",
       "</table>\n",
       "</div>"
      ],
      "text/plain": [
       "         charges smoker\n",
       "954  20009.63365    yes\n",
       "444  26109.32905    yes\n",
       "494  17942.10600    yes"
      ]
     },
     "execution_count": 4,
     "metadata": {},
     "output_type": "execute_result"
    }
   ],
   "source": [
    "# checking if all smokers are 'yes'\n",
    "smokers_df.sample(3)"
   ]
  },
  {
   "cell_type": "code",
   "execution_count": 5,
   "id": "7fc5efe6",
   "metadata": {},
   "outputs": [
    {
     "data": {
      "text/html": [
       "<div>\n",
       "<style scoped>\n",
       "    .dataframe tbody tr th:only-of-type {\n",
       "        vertical-align: middle;\n",
       "    }\n",
       "\n",
       "    .dataframe tbody tr th {\n",
       "        vertical-align: top;\n",
       "    }\n",
       "\n",
       "    .dataframe thead th {\n",
       "        text-align: right;\n",
       "    }\n",
       "</style>\n",
       "<table border=\"1\" class=\"dataframe\">\n",
       "  <thead>\n",
       "    <tr style=\"text-align: right;\">\n",
       "      <th></th>\n",
       "      <th>charges</th>\n",
       "      <th>smoker</th>\n",
       "    </tr>\n",
       "  </thead>\n",
       "  <tbody>\n",
       "    <tr>\n",
       "      <th>632</th>\n",
       "      <td>3366.6697</td>\n",
       "      <td>no</td>\n",
       "    </tr>\n",
       "    <tr>\n",
       "      <th>177</th>\n",
       "      <td>10436.0960</td>\n",
       "      <td>no</td>\n",
       "    </tr>\n",
       "    <tr>\n",
       "      <th>1032</th>\n",
       "      <td>4137.5227</td>\n",
       "      <td>no</td>\n",
       "    </tr>\n",
       "  </tbody>\n",
       "</table>\n",
       "</div>"
      ],
      "text/plain": [
       "         charges smoker\n",
       "632    3366.6697     no\n",
       "177   10436.0960     no\n",
       "1032   4137.5227     no"
      ]
     },
     "execution_count": 5,
     "metadata": {},
     "output_type": "execute_result"
    }
   ],
   "source": [
    "# checking if all smokers are 'no'\n",
    "non_smokers_df.sample(3)"
   ]
  },
  {
   "cell_type": "code",
   "execution_count": 6,
   "id": "95066d49",
   "metadata": {},
   "outputs": [
    {
     "data": {
      "image/png": "[encoded data removed]",
      "text/plain": [
       "<Figure size 500x300 with 1 Axes>"
      ]
     },
     "metadata": {},
     "output_type": "display_data"
    }
   ],
   "source": [
    "plt.figure(figsize = (5, 3))\n",
    "ax = sns.countplot(df, x = 'smoker')"
   ]
  },
  {
   "cell_type": "markdown",
   "id": "0f3b3bb2",
   "metadata": {},
   "source": [
    "- Initial graph shows that we don't have a balanced target.\n",
    "### Dealing with Outliers"
   ]
  },
  {
   "cell_type": "code",
   "execution_count": 7,
   "id": "3e5f883e",
   "metadata": {},
   "outputs": [
    {
     "name": "stdout",
     "output_type": "stream",
     "text": [
      "We have a total number of 0 outliers under smokers.\n",
      "We have a total number of 0 outliers under non-smokers.\n"
     ]
    }
   ],
   "source": [
    "smoker = smokers_df['charges']\n",
    "non_smoker = non_smokers_df['charges']\n",
    "\n",
    "smoker_ouliers = np.abs(stats.zscore(smoker)) > 3\n",
    "non_smoker_ouliers = np.abs(stats.zscore(smoker)) > 3\n",
    "\n",
    "print(f'We have a total number of {smoker_ouliers.sum()} outliers under smokers.')\n",
    "print(f'We have a total number of {non_smoker_ouliers.sum()} outliers under non-smokers.')"
   ]
  },
  {
   "cell_type": "markdown",
   "id": "08bc0338",
   "metadata": {},
   "source": [
    "- Seems like we don't have any outliers in this dataset.\n",
    "\n",
    "### Normality Testing"
   ]
  },
  {
   "cell_type": "code",
   "execution_count": 8,
   "id": "6299d656",
   "metadata": {},
   "outputs": [
    {
     "name": "stdout",
     "output_type": "stream",
     "text": [
      "Smoker group: NormaltestResult(statistic=61.03941356533816, pvalue=5.564930630036463e-14)\n",
      "    Pvalue < .05? True\n",
      "Non-smoker group: NormaltestResult(statistic=316.4528082392722, pvalue=1.9193129759002216e-69)\n",
      "    Pvalue < .05? True\n"
     ]
    }
   ],
   "source": [
    "smoker_result = stats.normaltest(smoker)\n",
    "non_smoker_result = stats.normaltest(non_smoker)\n",
    "\n",
    "print(f'Smoker group: {smoker_result}')\n",
    "print(f'    Pvalue < .05? {smoker_result.pvalue < .05}')\n",
    "print(f'Non-smoker group: {non_smoker_result}')\n",
    "print(f'    Pvalue < .05? {non_smoker_result.pvalue < .05}')"
   ]
  },
  {
   "cell_type": "markdown",
   "id": "c40c4734",
   "metadata": {},
   "source": [
    "- Both Smoker and Non-smoker have less than 0.05 p-value. This means that the target is NOT normally distributed as we can see in the graph. \n",
    "\n",
    "- Our group sizes are large enough, we can safely ignore the normality assumption.\n",
    "\n",
    "### Variance Testing"
   ]
  },
  {
   "cell_type": "code",
   "execution_count": 9,
   "id": "5960af40",
   "metadata": {},
   "outputs": [
    {
     "name": "stdout",
     "output_type": "stream",
     "text": [
      "LeveneResult(statistic=332.6135162726081, pvalue=1.5593284881803726e-66)\n",
      "The groups do NOT have equal variance.\n"
     ]
    }
   ],
   "source": [
    "result = stats.levene(smoker, non_smoker)\n",
    "print(result)\n",
    "if result.pvalue < .05:\n",
    "    print(f\"The groups do NOT have equal variance.\")\n",
    "else:\n",
    "    print(f\"The groups DO have equal variance.\")"
   ]
  },
  {
   "cell_type": "markdown",
   "id": "435a39fc",
   "metadata": {},
   "source": [
    "- We FAILED to meet the assumption of equal variance. We are running the Welch's T-Test, which is designed to account for unequal variance."
   ]
  },
  {
   "cell_type": "code",
   "execution_count": 10,
   "id": "e1a1a85f",
   "metadata": {},
   "outputs": [
    {
     "name": "stdout",
     "output_type": "stream",
     "text": [
      "Ttest_indResult(statistic=32.751887766341824, pvalue=5.88946444671698e-103)\n",
      "    Pvalue < .05? True\n"
     ]
    }
   ],
   "source": [
    "result = stats.ttest_ind(smoker, non_smoker, equal_var = False)\n",
    "print(result)\n",
    "print(f'    Pvalue < .05? {result.pvalue < .05}')"
   ]
  },
  {
   "cell_type": "markdown",
   "id": "42aa76c0",
   "metadata": {},
   "source": [
    "- Our Welch's T-Test returned < 0.05. We REJECT the null hypothesis and support the Alternative Hypothesis that. **There is a significant difference between the insurance charges of Smokers and Non-smokers.**\n",
    "\n",
    "## Final Visuaization"
   ]
  },
  {
   "cell_type": "markdown",
   "id": "f8655253",
   "metadata": {},
   "source": [
    "# Question 2:\n",
    "Are men more likely to smoke than women?\n",
    "\n",
    "## Hypothesis\n",
    "\n",
    "- <b>H0 (Null Hypothesis)</b> : There's is not much difference  <br>\n",
    "- <b>HA (Alternative Hypothesis) There's</b> : .\n",
    "\n",
    "## Appropriate test to perform\n",
    "\n",
    "-\n",
    "- \n",
    "- \n",
    "    \n",
    "## Assumptions \n",
    "    \n",
    "- \n",
    "- \n",
    "- \n",
    "    \n",
    "### Initial Visualization"
   ]
  },
  {
   "cell_type": "markdown",
   "id": "d2fb00ff",
   "metadata": {},
   "source": [
    "### Dealing with outliers"
   ]
  },
  {
   "cell_type": "markdown",
   "id": "e0dd6724",
   "metadata": {},
   "source": [
    "### Normality Testing"
   ]
  },
  {
   "cell_type": "markdown",
   "id": "43f082c7",
   "metadata": {},
   "source": [
    "### Variance Testing"
   ]
  },
  {
   "cell_type": "markdown",
   "id": "c3cd06c7",
   "metadata": {},
   "source": [
    "## Final Visualization"
   ]
  },
  {
   "cell_type": "markdown",
   "id": "6116cc9b",
   "metadata": {},
   "source": [
    "# Question 3:\n",
    "Do different regions have different charges, on average?\n",
    "\n",
    "## Hypothesis\n",
    "\n",
    "- <b>H0 (Null Hypothesis)</b> : Different Regions doesn't have much difference on average charges. <br>\n",
    "- <b>HA (Alternative Hypothesis)</b> : There is a significant difference on average charges for every region.\n"
   ]
  },
  {
   "cell_type": "code",
   "execution_count": 11,
   "id": "c83232f3",
   "metadata": {},
   "outputs": [
    {
     "data": {
      "text/plain": [
       "array(['southwest', 'southeast', 'northwest', 'northeast'], dtype=object)"
      ]
     },
     "execution_count": 11,
     "metadata": {},
     "output_type": "execute_result"
    }
   ],
   "source": [
    "# checking the regions as per question 3\n",
    "regions = df['region'].unique()\n",
    "regions"
   ]
  },
  {
   "cell_type": "markdown",
   "id": "54b8b12a",
   "metadata": {},
   "source": [
    "## Appropriate test to perform\n",
    "\n",
    "- Multi samples: southeast, southwest, northwest, northeast\n",
    "- Numerical Type: charges\n",
    "- ANOVA and/or Tukey\n",
    "    \n",
    "## Assumptions \n",
    "    \n",
    "- No significant outliers\n",
    "- Equal variance\n",
    "- Normality\n",
    "    \n",
    "### Initial Visualization"
   ]
  },
  {
   "cell_type": "code",
   "execution_count": 24,
   "id": "a89fcdb4",
   "metadata": {},
   "outputs": [
    {
     "data": {
      "image/png": "[encoded data removed]",
      "text/plain": [
       "<Figure size 500x300 with 1 Axes>"
      ]
     },
     "metadata": {},
     "output_type": "display_data"
    }
   ],
   "source": [
    "plt.figure(figsize = (5, 3))\n",
    "ax = sns.countplot(df, y = 'region', palette = 'husl')"
   ]
  },
  {
   "cell_type": "markdown",
   "id": "69309742",
   "metadata": {},
   "source": [
    "- Our graph shows that southwest, northwest and northeast almost have the same distribution while southeast is a little higher.\n",
    "### Dealing with Outliers"
   ]
  },
  {
   "cell_type": "code",
   "execution_count": 13,
   "id": "af264f5c",
   "metadata": {},
   "outputs": [
    {
     "data": {
      "text/plain": [
       "dict_keys(['southwest', 'southeast', 'northwest', 'northeast'])"
      ]
     },
     "execution_count": 13,
     "metadata": {},
     "output_type": "execute_result"
    }
   ],
   "source": [
    "groups = {}\n",
    "\n",
    "for i in df['region'].unique():\n",
    "    temp = df.loc[df['region'] == i, 'charges']\n",
    "    groups[i] = temp\n",
    "\n",
    "groups.keys()"
   ]
  },
  {
   "cell_type": "code",
   "execution_count": 14,
   "id": "68a620ca",
   "metadata": {},
   "outputs": [
    {
     "name": "stdout",
     "output_type": "stream",
     "text": [
      "There were 8 outliers in the southwest group.\n",
      "There were 2 outliers in the southeast group.\n",
      "There were 7 outliers in the northwest group.\n",
      "There were 4 outliers in the northeast group.\n"
     ]
    }
   ],
   "source": [
    "for region, data in groups.items():\n",
    "\n",
    "    outliers = np.abs(stats.zscore(data)) > 3\n",
    "    print(f\"There were {outliers.sum()} outliers in the {region} group.\")\n",
    "\n",
    "    data = data.loc[~outliers]\n",
    "    groups[region] = data"
   ]
  },
  {
   "cell_type": "markdown",
   "id": "ed4381e0",
   "metadata": {},
   "source": [
    "### Normality Testing"
   ]
  },
  {
   "cell_type": "code",
   "execution_count": 15,
   "id": "b79160e0",
   "metadata": {},
   "outputs": [
    {
     "data": {
      "text/html": [
       "<div>\n",
       "<style scoped>\n",
       "    .dataframe tbody tr th:only-of-type {\n",
       "        vertical-align: middle;\n",
       "    }\n",
       "\n",
       "    .dataframe tbody tr th {\n",
       "        vertical-align: top;\n",
       "    }\n",
       "\n",
       "    .dataframe thead th {\n",
       "        text-align: right;\n",
       "    }\n",
       "</style>\n",
       "<table border=\"1\" class=\"dataframe\">\n",
       "  <thead>\n",
       "    <tr style=\"text-align: right;\">\n",
       "      <th></th>\n",
       "      <th>n</th>\n",
       "      <th>p</th>\n",
       "      <th>test stat</th>\n",
       "    </tr>\n",
       "  </thead>\n",
       "  <tbody>\n",
       "    <tr>\n",
       "      <th>southwest</th>\n",
       "      <td>317.0</td>\n",
       "      <td>7.728611e-22</td>\n",
       "      <td>97.223886</td>\n",
       "    </tr>\n",
       "    <tr>\n",
       "      <th>southeast</th>\n",
       "      <td>362.0</td>\n",
       "      <td>1.936990e-13</td>\n",
       "      <td>58.544942</td>\n",
       "    </tr>\n",
       "    <tr>\n",
       "      <th>northwest</th>\n",
       "      <td>318.0</td>\n",
       "      <td>2.940543e-19</td>\n",
       "      <td>85.341045</td>\n",
       "    </tr>\n",
       "    <tr>\n",
       "      <th>northeast</th>\n",
       "      <td>320.0</td>\n",
       "      <td>3.557877e-17</td>\n",
       "      <td>75.749565</td>\n",
       "    </tr>\n",
       "  </tbody>\n",
       "</table>\n",
       "</div>"
      ],
      "text/plain": [
       "               n             p  test stat\n",
       "southwest  317.0  7.728611e-22  97.223886\n",
       "southeast  362.0  1.936990e-13  58.544942\n",
       "northwest  318.0  2.940543e-19  85.341045\n",
       "northeast  320.0  3.557877e-17  75.749565"
      ]
     },
     "execution_count": 15,
     "metadata": {},
     "output_type": "execute_result"
    }
   ],
   "source": [
    "norm_results = {}\n",
    "for i, data in groups.items():\n",
    "    stat, p = stats.normaltest(data)\n",
    "    # save the p val, test statistic, and the size of the group\n",
    "    norm_results[i] = {'n': len(data), \n",
    "                       'p': p, \n",
    "                       'test stat': stat}\n",
    "norm_results_df = pd.DataFrame(norm_results).T\n",
    "norm_results_df"
   ]
  },
  {
   "cell_type": "code",
   "execution_count": 16,
   "id": "0db6f5bc",
   "metadata": {},
   "outputs": [
    {
     "data": {
      "text/html": [
       "<div>\n",
       "<style scoped>\n",
       "    .dataframe tbody tr th:only-of-type {\n",
       "        vertical-align: middle;\n",
       "    }\n",
       "\n",
       "    .dataframe tbody tr th {\n",
       "        vertical-align: top;\n",
       "    }\n",
       "\n",
       "    .dataframe thead th {\n",
       "        text-align: right;\n",
       "    }\n",
       "</style>\n",
       "<table border=\"1\" class=\"dataframe\">\n",
       "  <thead>\n",
       "    <tr style=\"text-align: right;\">\n",
       "      <th></th>\n",
       "      <th>n</th>\n",
       "      <th>p</th>\n",
       "      <th>test stat</th>\n",
       "      <th>sig</th>\n",
       "    </tr>\n",
       "  </thead>\n",
       "  <tbody>\n",
       "    <tr>\n",
       "      <th>southwest</th>\n",
       "      <td>317.0</td>\n",
       "      <td>7.728611e-22</td>\n",
       "      <td>97.223886</td>\n",
       "      <td>True</td>\n",
       "    </tr>\n",
       "    <tr>\n",
       "      <th>southeast</th>\n",
       "      <td>362.0</td>\n",
       "      <td>1.936990e-13</td>\n",
       "      <td>58.544942</td>\n",
       "      <td>True</td>\n",
       "    </tr>\n",
       "    <tr>\n",
       "      <th>northwest</th>\n",
       "      <td>318.0</td>\n",
       "      <td>2.940543e-19</td>\n",
       "      <td>85.341045</td>\n",
       "      <td>True</td>\n",
       "    </tr>\n",
       "    <tr>\n",
       "      <th>northeast</th>\n",
       "      <td>320.0</td>\n",
       "      <td>3.557877e-17</td>\n",
       "      <td>75.749565</td>\n",
       "      <td>True</td>\n",
       "    </tr>\n",
       "  </tbody>\n",
       "</table>\n",
       "</div>"
      ],
      "text/plain": [
       "               n             p  test stat   sig\n",
       "southwest  317.0  7.728611e-22  97.223886  True\n",
       "southeast  362.0  1.936990e-13  58.544942  True\n",
       "northwest  318.0  2.940543e-19  85.341045  True\n",
       "northeast  320.0  3.557877e-17  75.749565  True"
      ]
     },
     "execution_count": 16,
     "metadata": {},
     "output_type": "execute_result"
    }
   ],
   "source": [
    "# checking sig with pandas \n",
    "norm_results_df['sig'] = norm_results_df['p'] < .05 \n",
    "norm_results_df"
   ]
  },
  {
   "cell_type": "markdown",
   "id": "f717f790",
   "metadata": {},
   "source": [
    "- Our p-values turns out to be lower than 0.05. Our target is not normally distributed.\n",
    "\n",
    "- Our group sizes are large enough, we can safely ignore the normality assumption.\n",
    "### Variance Testing"
   ]
  },
  {
   "cell_type": "code",
   "execution_count": 17,
   "id": "45fe5719",
   "metadata": {},
   "outputs": [
    {
     "name": "stdout",
     "output_type": "stream",
     "text": [
      "LeveneResult(statistic=9.518349004554441, pvalue=3.2035503711783993e-06)\n",
      "The groups do NOT have equal variance.\n"
     ]
    }
   ],
   "source": [
    "result = stats.levene(*groups.values())\n",
    "print(result)\n",
    "if result.pvalue < .05:\n",
    "    print(f\"The groups do NOT have equal variance.\")\n",
    "else:\n",
    "    print(f\"The groups DO have equal variance.\")"
   ]
  },
  {
   "cell_type": "markdown",
   "id": "f139d3ce",
   "metadata": {},
   "source": [
    "- Our Variance testing states that we do not have an equal variance in our target.\n",
    "## One Way ANOVA Test"
   ]
  },
  {
   "cell_type": "code",
   "execution_count": 18,
   "id": "967102a0",
   "metadata": {},
   "outputs": [
    {
     "name": "stdout",
     "output_type": "stream",
     "text": [
      "F_onewayResult(statistic=5.496394682506454, pvalue=0.0009419710075537749)\n",
      "    Pvalue < .05? True\n"
     ]
    }
   ],
   "source": [
    "# perform the correct hypothesis test\n",
    "# note again the use of the * operator for convenience\n",
    "result = stats.f_oneway(*groups.values())\n",
    "print(result)\n",
    "print(f'    Pvalue < .05? {non_smoker_result.pvalue < .05}')"
   ]
  },
  {
   "cell_type": "markdown",
   "id": "833c21d5",
   "metadata": {},
   "source": [
    "- We have less p-value on ANOVA, this means that as per ANOVA we will REJECT the Null hypothesis and support the Alternative Hypothesis that ***There is a significant difference on average charges for every region.***\n",
    "## Tukey's Pairwise"
   ]
  },
  {
   "cell_type": "code",
   "execution_count": 19,
   "id": "56d8eed6",
   "metadata": {},
   "outputs": [
    {
     "data": {
      "text/html": [
       "<div>\n",
       "<style scoped>\n",
       "    .dataframe tbody tr th:only-of-type {\n",
       "        vertical-align: middle;\n",
       "    }\n",
       "\n",
       "    .dataframe tbody tr th {\n",
       "        vertical-align: top;\n",
       "    }\n",
       "\n",
       "    .dataframe thead th {\n",
       "        text-align: right;\n",
       "    }\n",
       "</style>\n",
       "<table border=\"1\" class=\"dataframe\">\n",
       "  <thead>\n",
       "    <tr style=\"text-align: right;\">\n",
       "      <th></th>\n",
       "      <th>Charges</th>\n",
       "      <th>Sector</th>\n",
       "    </tr>\n",
       "  </thead>\n",
       "  <tbody>\n",
       "    <tr>\n",
       "      <th>0</th>\n",
       "      <td>16884.92400</td>\n",
       "      <td>southwest</td>\n",
       "    </tr>\n",
       "    <tr>\n",
       "      <th>12</th>\n",
       "      <td>1826.84300</td>\n",
       "      <td>southwest</td>\n",
       "    </tr>\n",
       "    <tr>\n",
       "      <th>15</th>\n",
       "      <td>1837.23700</td>\n",
       "      <td>southwest</td>\n",
       "    </tr>\n",
       "    <tr>\n",
       "      <th>18</th>\n",
       "      <td>10602.38500</td>\n",
       "      <td>southwest</td>\n",
       "    </tr>\n",
       "    <tr>\n",
       "      <th>19</th>\n",
       "      <td>36837.46700</td>\n",
       "      <td>southwest</td>\n",
       "    </tr>\n",
       "    <tr>\n",
       "      <th>...</th>\n",
       "      <td>...</td>\n",
       "      <td>...</td>\n",
       "    </tr>\n",
       "    <tr>\n",
       "      <th>1321</th>\n",
       "      <td>28101.33305</td>\n",
       "      <td>northeast</td>\n",
       "    </tr>\n",
       "    <tr>\n",
       "      <th>1325</th>\n",
       "      <td>13143.33665</td>\n",
       "      <td>northeast</td>\n",
       "    </tr>\n",
       "    <tr>\n",
       "      <th>1326</th>\n",
       "      <td>7050.02130</td>\n",
       "      <td>northeast</td>\n",
       "    </tr>\n",
       "    <tr>\n",
       "      <th>1328</th>\n",
       "      <td>22395.74424</td>\n",
       "      <td>northeast</td>\n",
       "    </tr>\n",
       "    <tr>\n",
       "      <th>1334</th>\n",
       "      <td>2205.98080</td>\n",
       "      <td>northeast</td>\n",
       "    </tr>\n",
       "  </tbody>\n",
       "</table>\n",
       "<p>1317 rows × 2 columns</p>\n",
       "</div>"
      ],
      "text/plain": [
       "          Charges     Sector\n",
       "0     16884.92400  southwest\n",
       "12     1826.84300  southwest\n",
       "15     1837.23700  southwest\n",
       "18    10602.38500  southwest\n",
       "19    36837.46700  southwest\n",
       "...           ...        ...\n",
       "1321  28101.33305  northeast\n",
       "1325  13143.33665  northeast\n",
       "1326   7050.02130  northeast\n",
       "1328  22395.74424  northeast\n",
       "1334   2205.98080  northeast\n",
       "\n",
       "[1317 rows x 2 columns]"
      ]
     },
     "execution_count": 19,
     "metadata": {},
     "output_type": "execute_result"
    }
   ],
   "source": [
    "## make a list for saving the dataframes to\n",
    "tukeys_dfs = []\n",
    "for sector, temp in groups.items():\n",
    "    temp_df = pd.DataFrame({'Charges' : temp, 'Sector' : sector})\n",
    "    tukeys_dfs.append(temp_df)\n",
    "    \n",
    "## concatenate them into 1 dataframe    \n",
    "tukeys_data = pd.concat(tukeys_dfs)\n",
    "tukeys_data"
   ]
  },
  {
   "cell_type": "code",
   "execution_count": 20,
   "id": "330d1671",
   "metadata": {},
   "outputs": [],
   "source": [
    "# save values\n",
    "values = tukeys_data['Charges']\n",
    "labels = tukeys_data['Sector']"
   ]
  },
  {
   "cell_type": "code",
   "execution_count": 21,
   "id": "0a27e1a2",
   "metadata": {},
   "outputs": [
    {
     "data": {
      "text/html": [
       "<table class=\"simpletable\">\n",
       "<caption>Multiple Comparison of Means - Tukey HSD, FWER=0.05</caption>\n",
       "<tr>\n",
       "   <th>group1</th>    <th>group2</th>    <th>meandiff</th>   <th>p-adj</th>    <th>lower</th>     <th>upper</th>   <th>reject</th>\n",
       "</tr>\n",
       "<tr>\n",
       "  <td>northeast</td> <td>northwest</td>  <td>-1340.917</td> <td>0.4263</td> <td>-3611.7411</td> <td>929.9072</td>   <td>False</td>\n",
       "</tr>\n",
       "<tr>\n",
       "  <td>northeast</td> <td>southeast</td>  <td>1529.834</td>  <td>0.2794</td>  <td>-670.6825</td> <td>3730.3505</td>  <td>False</td>\n",
       "</tr>\n",
       "<tr>\n",
       "  <td>northeast</td> <td>southwest</td>  <td>-1511.915</td> <td>0.3181</td> <td>-3784.5349</td>  <td>760.705</td>   <td>False</td>\n",
       "</tr>\n",
       "<tr>\n",
       "  <td>northwest</td> <td>southeast</td>  <td>2870.7509</td> <td>0.0046</td>  <td>666.5645</td>  <td>5074.9374</td>  <td>True</td> \n",
       "</tr>\n",
       "<tr>\n",
       "  <td>northwest</td> <td>southwest</td>  <td>-170.998</td>  <td>0.9974</td> <td>-2447.1716</td> <td>2105.1756</td>  <td>False</td>\n",
       "</tr>\n",
       "<tr>\n",
       "  <td>southeast</td> <td>southwest</td> <td>-3041.7489</td> <td>0.0023</td> <td>-5247.7854</td> <td>-835.7125</td>  <td>True</td> \n",
       "</tr>\n",
       "</table>"
      ],
      "text/plain": [
       "<class 'statsmodels.iolib.table.SimpleTable'>"
      ]
     },
     "execution_count": 21,
     "metadata": {},
     "output_type": "execute_result"
    }
   ],
   "source": [
    "# perform tukey's multiple comparison test and display the summary\n",
    "tukeys_results = pairwise_tukeyhsd(values,labels)\n",
    "tukeys_results.summary()"
   ]
  },
  {
   "cell_type": "markdown",
   "id": "1e767ce5",
   "metadata": {},
   "source": [
    "A. We REJECT the Null Hypothesis between:\n",
    "1. northwest vs. southeast\n",
    "2. southeast vs southwest\n",
    "- We will support the Alternative Hypothesis that, ***There is a significant difference on average charges for these specific regions.***\n",
    "\n",
    "B. We FAIL TO REJECT the Null Hypothesis on:\n",
    "1. northeast vs northwest\n",
    "2. northeast vs southwest\n",
    "3. northeast vs southwest\n",
    "4. northwest vs southwest\n",
    "- We will support the Null Hypothesis that says, ***Theses regions doesn't have much difference on average charges.***\n",
    "## Final Visualization"
   ]
  },
  {
   "cell_type": "code",
   "execution_count": 25,
   "id": "5de4f999",
   "metadata": {},
   "outputs": [
    {
     "data": {
      "image/png": "[encoded data removed]",
      "text/plain": [
       "<Figure size 500x300 with 1 Axes>"
      ]
     },
     "metadata": {},
     "output_type": "display_data"
    }
   ],
   "source": [
    "plt.figure(figsize = (5, 3))\n",
    "ax = sns.barplot(tukeys_data, y = 'Sector', x = 'Charges', palette = 'Paired')"
   ]
  },
  {
   "cell_type": "code",
   "execution_count": 23,
   "id": "f2b5c5cc",
   "metadata": {},
   "outputs": [
    {
     "data": {
      "image/png": "[encoded data removed]",
      "text/plain": [
       "<Figure size 1000x600 with 1 Axes>"
      ]
     },
     "metadata": {},
     "output_type": "display_data"
    }
   ],
   "source": [
    "tukeys_results.plot_simultaneous();"
   ]
  }
 ],
 "metadata": {
  "kernelspec": {
   "display_name": "Python (dojo-env)",
   "language": "python",
   "name": "dojo-env"
  },
  "language_info": {
   "codemirror_mode": {
    "name": "ipython",
    "version": 3
   },
   "file_extension": ".py",
   "mimetype": "text/x-python",
   "name": "python",
   "nbconvert_exporter": "python",
   "pygments_lexer": "ipython3",
   "version": "3.9.15"
  },
  "toc": {
   "base_numbering": 1,
   "nav_menu": {},
   "number_sections": false,
   "sideBar": true,
   "skip_h1_title": false,
   "title_cell": "Table of Contents",
   "title_sidebar": "Contents",
   "toc_cell": false,
   "toc_position": {
    "height": "calc(100% - 180px)",
    "left": "10px",
    "top": "150px",
    "width": "349.091px"
   },
   "toc_section_display": true,
   "toc_window_display": true
  }
 },
 "nbformat": 4,
 "nbformat_minor": 5
}
